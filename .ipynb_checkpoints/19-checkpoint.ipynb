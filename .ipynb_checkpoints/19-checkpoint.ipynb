{
 "cells": [
  {
   "cell_type": "code",
   "execution_count": 73,
   "id": "38b9d622-7e7d-41ab-968c-5eb7e94fee69",
   "metadata": {},
   "outputs": [],
   "source": [
    "def display(title, img):\n",
    "    cv2.imshow(title, img)\n",
    "    cv2.waitKey(0)\n",
    "    cv2.destroyWindow(title)"
   ]
  },
  {
   "cell_type": "code",
   "execution_count": 75,
   "id": "5638b07e-c54e-4e9e-a303-abb8f2b4a790",
   "metadata": {},
   "outputs": [],
   "source": [
    "import cv2"
   ]
  },
  {
   "cell_type": "code",
   "execution_count": 77,
   "id": "9e9f998a-6c62-46b3-b2c8-498788859579",
   "metadata": {},
   "outputs": [
    {
     "name": "stdout",
     "output_type": "stream",
     "text": [
      "[[[142 103   5]\n",
      "  [142 103   5]\n",
      "  [142 103   5]\n",
      "  ...\n",
      "  [195 189 178]\n",
      "  [209 201 184]\n",
      "  [210 196 184]]\n",
      "\n",
      " [[142 103   5]\n",
      "  [142 103   5]\n",
      "  [141 102   4]\n",
      "  ...\n",
      "  [193 192 194]\n",
      "  [196 195 191]\n",
      "  [194 191 186]]\n",
      "\n",
      " [[143 102   3]\n",
      "  [143 102   3]\n",
      "  [143 102   3]\n",
      "  ...\n",
      "  [203 214 234]\n",
      "  [193 206 222]\n",
      "  [183 195 201]]\n",
      "\n",
      " ...\n",
      "\n",
      " [[ 20   0  45]\n",
      "  [ 29   3  56]\n",
      "  [ 48  14  79]\n",
      "  ...\n",
      "  [ 10  13  18]\n",
      "  [  9  12  16]\n",
      "  [  9  12  16]]\n",
      "\n",
      " [[ 14   0  45]\n",
      "  [ 15   0  42]\n",
      "  [ 24   2  51]\n",
      "  ...\n",
      "  [ 10  13  18]\n",
      "  [  9  12  17]\n",
      "  [  9  12  16]]\n",
      "\n",
      " [[ 19   5  53]\n",
      "  [ 14   0  42]\n",
      "  [ 16   0  41]\n",
      "  ...\n",
      "  [ 10  13  18]\n",
      "  [  9  12  17]\n",
      "  [  8  11  16]]]\n"
     ]
    }
   ],
   "source": [
    "path= 'D:/Hinh_anh/05.JPG'\n",
    "img = cv2.imread(path)\n",
    "print(img)"
   ]
  },
  {
   "cell_type": "code",
   "execution_count": 79,
   "id": "fd5e87ce-ec2b-4d67-a803-b5c01fc527ae",
   "metadata": {},
   "outputs": [
    {
     "name": "stdout",
     "output_type": "stream",
     "text": [
      "(261, 365, 3)\n",
      "261\n",
      "365\n",
      "3\n"
     ]
    }
   ],
   "source": [
    "print(img.shape)\n",
    "x, y, z = img.shape\n",
    "print(x)\n",
    "print(y)\n",
    "print(z)"
   ]
  },
  {
   "cell_type": "code",
   "execution_count": 81,
   "id": "c5260add-9827-4744-a216-0d3cb5e3f9a4",
   "metadata": {},
   "outputs": [],
   "source": [
    "cv2.imshow('Window', img)\n",
    "cv2.waitKey(10000)\n",
    "cv2.destroyWindow('Window')"
   ]
  },
  {
   "cell_type": "code",
   "execution_count": 83,
   "id": "8c4afd55-7cbd-42c8-b081-10444c1ae16e",
   "metadata": {},
   "outputs": [],
   "source": [
    "b, g, r = cv2.split(img)\n",
    "cv2.imshow('Window', img)\n",
    "cv2.imshow('Red', r)\n",
    "cv2.imshow('Green', g)\n",
    "cv2.imshow('Blue', b)\n",
    "\n",
    "cv2.waitKey(0)\n",
    "cv2.destroyAllWindows()"
   ]
  },
  {
   "cell_type": "code",
   "execution_count": 85,
   "id": "55e940c1-3025-417a-a496-76148e471c78",
   "metadata": {},
   "outputs": [],
   "source": [
    "gray_img = cv2.cvtColor(img, cv2.COLOR_BGR2GRAY)\n",
    "img_2 = cv2.cvtColor(img, cv2.COLOR_BGR2RGB)\n",
    "cv2.imshow('Window', img)\n",
    "cv2.imshow('gray_img', gray_img)\n",
    "cv2.imshow('img_2', img_2)\n",
    "cv2.waitKey(0)\n",
    "cv2.destroyAllWindows()"
   ]
  },
  {
   "cell_type": "code",
   "execution_count": 87,
   "id": "30d81659-b59a-4301-90a8-4ab7d3d8dd91",
   "metadata": {},
   "outputs": [
    {
     "ename": "error",
     "evalue": "OpenCV(4.10.0) D:\\a\\opencv-python\\opencv-python\\opencv\\modules\\highgui\\src\\window_w32.cpp:1261: error: (-27:Null pointer) NULL window: 'Window' in function 'cvDestroyWindow'\n",
     "output_type": "error",
     "traceback": [
      "\u001b[1;31m---------------------------------------------------------------------------\u001b[0m",
      "\u001b[1;31merror\u001b[0m                                     Traceback (most recent call last)",
      "Cell \u001b[1;32mIn[87], line 12\u001b[0m\n\u001b[0;32m     10\u001b[0m     \u001b[38;5;28;01mfor\u001b[39;00m x \u001b[38;5;129;01min\u001b[39;00m \u001b[38;5;28mrange\u001b[39m(\u001b[38;5;28mint\u001b[39m(quater_w)):\n\u001b[0;32m     11\u001b[0m         img2[y, x] \u001b[38;5;241m=\u001b[39m green_color\n\u001b[1;32m---> 12\u001b[0m display(\u001b[38;5;124m'\u001b[39m\u001b[38;5;124mWindow\u001b[39m\u001b[38;5;124m'\u001b[39m, img)\n\u001b[0;32m     13\u001b[0m display(\u001b[38;5;124m'\u001b[39m\u001b[38;5;124mWindow-2\u001b[39m\u001b[38;5;124m'\u001b[39m, img_2)\n",
      "Cell \u001b[1;32mIn[73], line 4\u001b[0m, in \u001b[0;36mdisplay\u001b[1;34m(title, img)\u001b[0m\n\u001b[0;32m      2\u001b[0m cv2\u001b[38;5;241m.\u001b[39mimshow(title, img)\n\u001b[0;32m      3\u001b[0m cv2\u001b[38;5;241m.\u001b[39mwaitKey(\u001b[38;5;241m0\u001b[39m)\n\u001b[1;32m----> 4\u001b[0m cv2\u001b[38;5;241m.\u001b[39mdestroyWindow(title)\n",
      "\u001b[1;31merror\u001b[0m: OpenCV(4.10.0) D:\\a\\opencv-python\\opencv-python\\opencv\\modules\\highgui\\src\\window_w32.cpp:1261: error: (-27:Null pointer) NULL window: 'Window' in function 'cvDestroyWindow'\n"
     ]
    }
   ],
   "source": [
    "height, width, z = img.shape\n",
    "quater_h = height/2\n",
    "quater_w = width/2\n",
    "\n",
    "green_color = (0,50,0)\n",
    "\n",
    "img2 = img.copy()\n",
    "\n",
    "for y in range(int(quater_h)):\n",
    "    for x in range(int(quater_w)):\n",
    "        img2[y, x] = green_color\n",
    "display('Window', img)\n",
    "display('Window-2', img_2)"
   ]
  }
 ],
 "metadata": {
  "kernelspec": {
   "display_name": "Python 3 (ipykernel)",
   "language": "python",
   "name": "python3"
  },
  "language_info": {
   "codemirror_mode": {
    "name": "ipython",
    "version": 3
   },
   "file_extension": ".py",
   "mimetype": "text/x-python",
   "name": "python",
   "nbconvert_exporter": "python",
   "pygments_lexer": "ipython3",
   "version": "3.12.4"
  }
 },
 "nbformat": 4,
 "nbformat_minor": 5
}
