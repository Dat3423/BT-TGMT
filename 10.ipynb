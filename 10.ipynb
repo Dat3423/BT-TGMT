{
 "cells": [
  {
   "cell_type": "code",
   "execution_count": 10,
   "id": "5b579ee1-486a-4f92-b308-bc8c7e606a9f",
   "metadata": {},
   "outputs": [
    {
     "name": "stdout",
     "output_type": "stream",
     "text": [
      "[(83.09677419354838, 28.741935483871032), (263.83064516129036, 61.709677419354904), (136.08064516129033, 115.28225806451618), (259.1209677419355, 185.3387096774194), (104.87903225806451, 191.8145161290323)]\n"
     ]
    }
   ],
   "source": [
    "from PIL import Image\n",
    "import matplotlib.pyplot as plt\n",
    "\n",
    "my_path = 'D:/Hinh_anh/05.JPG'\n",
    "\n",
    "im = Image.open(my_path)\n",
    "\n",
    "plt.switch_backend('tkagg')\n",
    "\n",
    "plt.imshow(im)\n",
    "plt.title('Click on the image to select points')\n",
    "\n",
    "points = plt.ginput(5)\n",
    "\n",
    "print(points)\n",
    "\n",
    "plt.show()"
   ]
  },
  {
   "cell_type": "code",
   "execution_count": 12,
   "id": "24d18b38-03e1-4957-9bc3-e410bf82d74d",
   "metadata": {},
   "outputs": [],
   "source": [
    "plt.close()\n",
    "\n",
    "plt.imshow(im)\n",
    "for point in points:\n",
    "    x, y = point\n",
    "    plt.plot(x,y, 'r*')\n",
    "\n",
    "plt.show()"
   ]
  }
 ],
 "metadata": {
  "kernelspec": {
   "display_name": "Python 3 (ipykernel)",
   "language": "python",
   "name": "python3"
  },
  "language_info": {
   "codemirror_mode": {
    "name": "ipython",
    "version": 3
   },
   "file_extension": ".py",
   "mimetype": "text/x-python",
   "name": "python",
   "nbconvert_exporter": "python",
   "pygments_lexer": "ipython3",
   "version": "3.12.4"
  }
 },
 "nbformat": 4,
 "nbformat_minor": 5
}
