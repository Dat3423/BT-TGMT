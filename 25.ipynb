{
 "cells": [
  {
   "cell_type": "code",
   "execution_count": 1,
   "id": "b1262412-5771-4f0f-bed4-917d8a321ece",
   "metadata": {},
   "outputs": [],
   "source": [
    "import cv2"
   ]
  },
  {
   "cell_type": "code",
   "execution_count": 2,
   "id": "e5d199e8-53fc-4d94-8694-29522d70fabf",
   "metadata": {},
   "outputs": [],
   "source": [
    "def display(title, img):\n",
    "    cv2.imshow(title, img)\n",
    "    cv2.waitKey(0)\n",
    "    cv2.destroyWindow(title)"
   ]
  },
  {
   "cell_type": "code",
   "execution_count": 3,
   "id": "9c820f41-9880-400c-9090-29122319d655",
   "metadata": {},
   "outputs": [],
   "source": [
    "face_cascade = cv2.CascadeClassifier('D:/DATA_ANACONDA/haarcascade_frontalface_default.xml')\n",
    "eye_cascade = cv2.CascadeClassifier('D:/DATA_ANACONDA/haarcascade_eye_tree_eyeglasses.xml')"
   ]
  },
  {
   "cell_type": "code",
   "execution_count": 4,
   "id": "4615c734-ad02-4b53-ab97-b1a70be188e7",
   "metadata": {},
   "outputs": [],
   "source": [
    "img = cv2.imread('D:/DATA_ANACONDA/data/image_2160.jpg')"
   ]
  },
  {
   "cell_type": "code",
   "execution_count": 5,
   "id": "e73f1fa5-57d2-4875-bf57-76fa718276ce",
   "metadata": {},
   "outputs": [],
   "source": [
    "gray = cv2.cvtColor(img, cv2.COLOR_BGR2GRAY)"
   ]
  },
  {
   "cell_type": "code",
   "execution_count": 6,
   "id": "13897f76-ea8b-4b68-bd1a-0470ac684c12",
   "metadata": {},
   "outputs": [],
   "source": [
    "faces = face_cascade.detectMultiScale(gray, scaleFactor=1.1, minNeighbors=5, minSize=(30,30))"
   ]
  },
  {
   "cell_type": "code",
   "execution_count": 7,
   "id": "67f32ca4-e2ca-41f6-b027-be7ad78671cb",
   "metadata": {},
   "outputs": [],
   "source": [
    "eyes = eye_cascade.detectMultiScale(gray, scaleFactor=1.1, minNeighbors=1, minSize=(5,5))"
   ]
  },
  {
   "cell_type": "code",
   "execution_count": 8,
   "id": "30341e25-37a4-4a5b-ba8a-01a9e001953d",
   "metadata": {},
   "outputs": [],
   "source": [
    "for (x, y, w, h) in faces:\n",
    "    cv2.rectangle(img, (x, y), (x+w, y+h), (0, 255,0), 2)"
   ]
  },
  {
   "cell_type": "code",
   "execution_count": 9,
   "id": "c0a0a93e-5001-42e5-8bd4-905daaa51725",
   "metadata": {},
   "outputs": [],
   "source": [
    "for (x, y, w, h) in eyes:\n",
    "    cv2.rectangle(img, (x, y), (x+w, y+h), (255, 0,0), 2)"
   ]
  },
  {
   "cell_type": "code",
   "execution_count": 10,
   "id": "8166f7f5-752b-46f9-b519-51cbe201948f",
   "metadata": {},
   "outputs": [
    {
     "ename": "error",
     "evalue": "OpenCV(4.10.0) D:\\a\\opencv-python\\opencv-python\\opencv\\modules\\highgui\\src\\window_w32.cpp:1261: error: (-27:Null pointer) NULL window: 'Faces: ' in function 'cvDestroyWindow'\n",
     "output_type": "error",
     "traceback": [
      "\u001b[1;31m---------------------------------------------------------------------------\u001b[0m",
      "\u001b[1;31merror\u001b[0m                                     Traceback (most recent call last)",
      "Cell \u001b[1;32mIn[10], line 1\u001b[0m\n\u001b[1;32m----> 1\u001b[0m display(\u001b[38;5;124m'\u001b[39m\u001b[38;5;124mFaces: \u001b[39m\u001b[38;5;124m'\u001b[39m, img)\n",
      "Cell \u001b[1;32mIn[2], line 4\u001b[0m, in \u001b[0;36mdisplay\u001b[1;34m(title, img)\u001b[0m\n\u001b[0;32m      2\u001b[0m cv2\u001b[38;5;241m.\u001b[39mimshow(title, img)\n\u001b[0;32m      3\u001b[0m cv2\u001b[38;5;241m.\u001b[39mwaitKey(\u001b[38;5;241m0\u001b[39m)\n\u001b[1;32m----> 4\u001b[0m cv2\u001b[38;5;241m.\u001b[39mdestroyWindow(title)\n",
      "\u001b[1;31merror\u001b[0m: OpenCV(4.10.0) D:\\a\\opencv-python\\opencv-python\\opencv\\modules\\highgui\\src\\window_w32.cpp:1261: error: (-27:Null pointer) NULL window: 'Faces: ' in function 'cvDestroyWindow'\n"
     ]
    }
   ],
   "source": [
    "display('Faces: ', img)"
   ]
  }
 ],
 "metadata": {
  "kernelspec": {
   "display_name": "Python 3 (ipykernel)",
   "language": "python",
   "name": "python3"
  },
  "language_info": {
   "codemirror_mode": {
    "name": "ipython",
    "version": 3
   },
   "file_extension": ".py",
   "mimetype": "text/x-python",
   "name": "python",
   "nbconvert_exporter": "python",
   "pygments_lexer": "ipython3",
   "version": "3.12.4"
  }
 },
 "nbformat": 4,
 "nbformat_minor": 5
}
